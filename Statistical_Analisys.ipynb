{
 "cells": [
  {
   "cell_type": "code",
   "execution_count": 1,
   "id": "c2536c19",
   "metadata": {},
   "outputs": [],
   "source": [
    "import pandas as pd # for manipulating data frames\n",
    "import pingouin as pg # for running statistics\n",
    "import plotly.express as px"
   ]
  },
  {
   "cell_type": "code",
   "execution_count": 5,
   "id": "bf98023f",
   "metadata": {
    "scrolled": true
   },
   "outputs": [
    {
     "data": {
      "text/html": [
       "<div>\n",
       "<style scoped>\n",
       "    .dataframe tbody tr th:only-of-type {\n",
       "        vertical-align: middle;\n",
       "    }\n",
       "\n",
       "    .dataframe tbody tr th {\n",
       "        vertical-align: top;\n",
       "    }\n",
       "\n",
       "    .dataframe thead th {\n",
       "        text-align: right;\n",
       "    }\n",
       "</style>\n",
       "<table border=\"1\" class=\"dataframe\">\n",
       "  <thead>\n",
       "    <tr style=\"text-align: right;\">\n",
       "      <th></th>\n",
       "      <th>DesignName</th>\n",
       "      <th>ParticipantID</th>\n",
       "      <th>TrialID</th>\n",
       "      <th>Block1</th>\n",
       "      <th>Block2</th>\n",
       "      <th>VV</th>\n",
       "      <th>OC</th>\n",
       "      <th>visualSearchTime</th>\n",
       "      <th>ErrorCount</th>\n",
       "    </tr>\n",
       "  </thead>\n",
       "  <tbody>\n",
       "    <tr>\n",
       "      <th>0</th>\n",
       "      <td>Preattentive Variables</td>\n",
       "      <td>1</td>\n",
       "      <td>1</td>\n",
       "      <td>1</td>\n",
       "      <td>1</td>\n",
       "      <td>Shadow</td>\n",
       "      <td>Medium</td>\n",
       "      <td>1552</td>\n",
       "      <td>0</td>\n",
       "    </tr>\n",
       "    <tr>\n",
       "      <th>1</th>\n",
       "      <td>Preattentive Variables</td>\n",
       "      <td>1</td>\n",
       "      <td>2</td>\n",
       "      <td>1</td>\n",
       "      <td>2</td>\n",
       "      <td>Shadow</td>\n",
       "      <td>Low</td>\n",
       "      <td>1134</td>\n",
       "      <td>0</td>\n",
       "    </tr>\n",
       "    <tr>\n",
       "      <th>2</th>\n",
       "      <td>Preattentive Variables</td>\n",
       "      <td>1</td>\n",
       "      <td>3</td>\n",
       "      <td>1</td>\n",
       "      <td>3</td>\n",
       "      <td>Shadow</td>\n",
       "      <td>High</td>\n",
       "      <td>1140</td>\n",
       "      <td>0</td>\n",
       "    </tr>\n",
       "    <tr>\n",
       "      <th>3</th>\n",
       "      <td>Preattentive Variables</td>\n",
       "      <td>1</td>\n",
       "      <td>4</td>\n",
       "      <td>1</td>\n",
       "      <td>4</td>\n",
       "      <td>Shadow</td>\n",
       "      <td>Low</td>\n",
       "      <td>768</td>\n",
       "      <td>0</td>\n",
       "    </tr>\n",
       "    <tr>\n",
       "      <th>4</th>\n",
       "      <td>Preattentive Variables</td>\n",
       "      <td>1</td>\n",
       "      <td>5</td>\n",
       "      <td>1</td>\n",
       "      <td>5</td>\n",
       "      <td>Shadow</td>\n",
       "      <td>Medium</td>\n",
       "      <td>904</td>\n",
       "      <td>0</td>\n",
       "    </tr>\n",
       "    <tr>\n",
       "      <th>...</th>\n",
       "      <td>...</td>\n",
       "      <td>...</td>\n",
       "      <td>...</td>\n",
       "      <td>...</td>\n",
       "      <td>...</td>\n",
       "      <td>...</td>\n",
       "      <td>...</td>\n",
       "      <td>...</td>\n",
       "      <td>...</td>\n",
       "    </tr>\n",
       "    <tr>\n",
       "      <th>265</th>\n",
       "      <td>Preattentive Variables</td>\n",
       "      <td>6</td>\n",
       "      <td>266</td>\n",
       "      <td>3</td>\n",
       "      <td>11</td>\n",
       "      <td>Shadow</td>\n",
       "      <td>Low</td>\n",
       "      <td>858</td>\n",
       "      <td>0</td>\n",
       "    </tr>\n",
       "    <tr>\n",
       "      <th>266</th>\n",
       "      <td>Preattentive Variables</td>\n",
       "      <td>6</td>\n",
       "      <td>267</td>\n",
       "      <td>3</td>\n",
       "      <td>12</td>\n",
       "      <td>Shadow</td>\n",
       "      <td>Medium</td>\n",
       "      <td>743</td>\n",
       "      <td>0</td>\n",
       "    </tr>\n",
       "    <tr>\n",
       "      <th>267</th>\n",
       "      <td>Preattentive Variables</td>\n",
       "      <td>6</td>\n",
       "      <td>268</td>\n",
       "      <td>3</td>\n",
       "      <td>13</td>\n",
       "      <td>Shadow</td>\n",
       "      <td>Low</td>\n",
       "      <td>648</td>\n",
       "      <td>0</td>\n",
       "    </tr>\n",
       "    <tr>\n",
       "      <th>268</th>\n",
       "      <td>Preattentive Variables</td>\n",
       "      <td>6</td>\n",
       "      <td>269</td>\n",
       "      <td>3</td>\n",
       "      <td>14</td>\n",
       "      <td>Shadow</td>\n",
       "      <td>High</td>\n",
       "      <td>676</td>\n",
       "      <td>0</td>\n",
       "    </tr>\n",
       "    <tr>\n",
       "      <th>269</th>\n",
       "      <td>Preattentive Variables</td>\n",
       "      <td>6</td>\n",
       "      <td>270</td>\n",
       "      <td>3</td>\n",
       "      <td>15</td>\n",
       "      <td>Shadow</td>\n",
       "      <td>Medium</td>\n",
       "      <td>1037</td>\n",
       "      <td>0</td>\n",
       "    </tr>\n",
       "  </tbody>\n",
       "</table>\n",
       "<p>270 rows × 9 columns</p>\n",
       "</div>"
      ],
      "text/plain": [
       "                 DesignName  ParticipantID  TrialID  Block1  Block2      VV  \\\n",
       "0    Preattentive Variables              1        1       1       1  Shadow   \n",
       "1    Preattentive Variables              1        2       1       2  Shadow   \n",
       "2    Preattentive Variables              1        3       1       3  Shadow   \n",
       "3    Preattentive Variables              1        4       1       4  Shadow   \n",
       "4    Preattentive Variables              1        5       1       5  Shadow   \n",
       "..                      ...            ...      ...     ...     ...     ...   \n",
       "265  Preattentive Variables              6      266       3      11  Shadow   \n",
       "266  Preattentive Variables              6      267       3      12  Shadow   \n",
       "267  Preattentive Variables              6      268       3      13  Shadow   \n",
       "268  Preattentive Variables              6      269       3      14  Shadow   \n",
       "269  Preattentive Variables              6      270       3      15  Shadow   \n",
       "\n",
       "         OC  visualSearchTime  ErrorCount  \n",
       "0    Medium              1552           0  \n",
       "1       Low              1134           0  \n",
       "2      High              1140           0  \n",
       "3       Low               768           0  \n",
       "4    Medium               904           0  \n",
       "..      ...               ...         ...  \n",
       "265     Low               858           0  \n",
       "266  Medium               743           0  \n",
       "267     Low               648           0  \n",
       "268    High               676           0  \n",
       "269  Medium              1037           0  \n",
       "\n",
       "[270 rows x 9 columns]"
      ]
     },
     "execution_count": 5,
     "metadata": {},
     "output_type": "execute_result"
    }
   ],
   "source": [
    "data = pd.read_csv('logs/logs_merged.csv', sep=',')\n",
    "data"
   ]
  },
  {
   "cell_type": "code",
   "execution_count": 6,
   "id": "d88417b6",
   "metadata": {},
   "outputs": [
    {
     "data": {
      "text/plain": [
       "DesignName          Preattentive Variables\n",
       "ParticipantID                            1\n",
       "TrialID                                  3\n",
       "Block1                                   1\n",
       "Block2                                   3\n",
       "VV                                  Shadow\n",
       "OC                                    High\n",
       "visualSearchTime                      1140\n",
       "ErrorCount                               0\n",
       "Name: 2, dtype: object"
      ]
     },
     "execution_count": 6,
     "metadata": {},
     "output_type": "execute_result"
    }
   ],
   "source": [
    "data.iloc[2]"
   ]
  },
  {
   "cell_type": "code",
   "execution_count": 7,
   "id": "a3e47adf",
   "metadata": {},
   "outputs": [
    {
     "data": {
      "text/plain": [
       "DesignName          object\n",
       "ParticipantID        int64\n",
       "TrialID              int64\n",
       "Block1               int64\n",
       "Block2               int64\n",
       "VV                  object\n",
       "OC                  object\n",
       "visualSearchTime     int64\n",
       "ErrorCount           int64\n",
       "dtype: object"
      ]
     },
     "execution_count": 7,
     "metadata": {},
     "output_type": "execute_result"
    }
   ],
   "source": [
    "data.dtypes"
   ]
  },
  {
   "cell_type": "code",
   "execution_count": 9,
   "id": "4264de7d",
   "metadata": {},
   "outputs": [
    {
     "data": {
      "text/plain": [
       "DesignName          object\n",
       "ParticipantID       object\n",
       "TrialID              int64\n",
       "Block1               int64\n",
       "Block2               int64\n",
       "VV                  object\n",
       "OC                  object\n",
       "visualSearchTime     int64\n",
       "ErrorCount           int64\n",
       "dtype: object"
      ]
     },
     "execution_count": 9,
     "metadata": {},
     "output_type": "execute_result"
    }
   ],
   "source": [
    "data['ParticipantID'] = data['ParticipantID'].astype('str')\n",
    "data.dtypes"
   ]
  },
  {
   "cell_type": "code",
   "execution_count": 11,
   "id": "263296ae",
   "metadata": {},
   "outputs": [
    {
     "data": {
      "text/plain": [
       "3073.0481481481484"
      ]
     },
     "execution_count": 11,
     "metadata": {},
     "output_type": "execute_result"
    }
   ],
   "source": [
    "### Applying them to a column gives a result of type series\n",
    "data.visualSearchTime.mean()"
   ]
  },
  {
   "cell_type": "code",
   "execution_count": 13,
   "id": "d8987065",
   "metadata": {},
   "outputs": [
    {
     "data": {
      "text/plain": [
       "VV\n",
       "Both      6437.455556\n",
       "Motion    1511.677778\n",
       "Shadow    1270.011111\n",
       "Name: visualSearchTime, dtype: float64"
      ]
     },
     "execution_count": 13,
     "metadata": {},
     "output_type": "execute_result"
    }
   ],
   "source": [
    "### We can get a breakdown by condition using the groupby function\n",
    "data.groupby('VV').visualSearchTime.mean()"
   ]
  },
  {
   "cell_type": "code",
   "execution_count": 14,
   "id": "64ff886c",
   "metadata": {},
   "outputs": [
    {
     "name": "stderr",
     "output_type": "stream",
     "text": [
      "/tmp/ipykernel_52115/917059096.py:2: FutureWarning: The default value of numeric_only in DataFrameGroupBy.mean is deprecated. In a future version, numeric_only will default to False. Either specify numeric_only or select only columns which should be valid for the function.\n",
      "  data.groupby('VV').mean() # result is a dataframe\n"
     ]
    },
    {
     "data": {
      "text/html": [
       "<div>\n",
       "<style scoped>\n",
       "    .dataframe tbody tr th:only-of-type {\n",
       "        vertical-align: middle;\n",
       "    }\n",
       "\n",
       "    .dataframe tbody tr th {\n",
       "        vertical-align: top;\n",
       "    }\n",
       "\n",
       "    .dataframe thead th {\n",
       "        text-align: right;\n",
       "    }\n",
       "</style>\n",
       "<table border=\"1\" class=\"dataframe\">\n",
       "  <thead>\n",
       "    <tr style=\"text-align: right;\">\n",
       "      <th></th>\n",
       "      <th>TrialID</th>\n",
       "      <th>Block1</th>\n",
       "      <th>Block2</th>\n",
       "      <th>visualSearchTime</th>\n",
       "      <th>ErrorCount</th>\n",
       "    </tr>\n",
       "    <tr>\n",
       "      <th>VV</th>\n",
       "      <th></th>\n",
       "      <th></th>\n",
       "      <th></th>\n",
       "      <th></th>\n",
       "      <th></th>\n",
       "    </tr>\n",
       "  </thead>\n",
       "  <tbody>\n",
       "    <tr>\n",
       "      <th>Both</th>\n",
       "      <td>135.5</td>\n",
       "      <td>2.0</td>\n",
       "      <td>8.0</td>\n",
       "      <td>6437.455556</td>\n",
       "      <td>0.122222</td>\n",
       "    </tr>\n",
       "    <tr>\n",
       "      <th>Motion</th>\n",
       "      <td>135.5</td>\n",
       "      <td>2.0</td>\n",
       "      <td>8.0</td>\n",
       "      <td>1511.677778</td>\n",
       "      <td>0.011111</td>\n",
       "    </tr>\n",
       "    <tr>\n",
       "      <th>Shadow</th>\n",
       "      <td>135.5</td>\n",
       "      <td>2.0</td>\n",
       "      <td>8.0</td>\n",
       "      <td>1270.011111</td>\n",
       "      <td>0.022222</td>\n",
       "    </tr>\n",
       "  </tbody>\n",
       "</table>\n",
       "</div>"
      ],
      "text/plain": [
       "        TrialID  Block1  Block2  visualSearchTime  ErrorCount\n",
       "VV                                                           \n",
       "Both      135.5     2.0     8.0       6437.455556    0.122222\n",
       "Motion    135.5     2.0     8.0       1511.677778    0.011111\n",
       "Shadow    135.5     2.0     8.0       1270.011111    0.022222"
      ]
     },
     "execution_count": 14,
     "metadata": {},
     "output_type": "execute_result"
    }
   ],
   "source": [
    "### Applying those aggregating functions to a dataframe gives a result of type dataframe\n",
    "data.groupby('VV').mean() # result is a dataframe"
   ]
  },
  {
   "cell_type": "code",
   "execution_count": 15,
   "id": "7a57fa1e",
   "metadata": {},
   "outputs": [
    {
     "data": {
      "text/html": [
       "<div>\n",
       "<style scoped>\n",
       "    .dataframe tbody tr th:only-of-type {\n",
       "        vertical-align: middle;\n",
       "    }\n",
       "\n",
       "    .dataframe tbody tr th {\n",
       "        vertical-align: top;\n",
       "    }\n",
       "\n",
       "    .dataframe thead th {\n",
       "        text-align: right;\n",
       "    }\n",
       "</style>\n",
       "<table border=\"1\" class=\"dataframe\">\n",
       "  <thead>\n",
       "    <tr style=\"text-align: right;\">\n",
       "      <th></th>\n",
       "      <th>TrialID</th>\n",
       "      <th>visualSearchTime</th>\n",
       "    </tr>\n",
       "    <tr>\n",
       "      <th>VV</th>\n",
       "      <th></th>\n",
       "      <th></th>\n",
       "    </tr>\n",
       "  </thead>\n",
       "  <tbody>\n",
       "    <tr>\n",
       "      <th>Both</th>\n",
       "      <td>12195</td>\n",
       "      <td>6437.455556</td>\n",
       "    </tr>\n",
       "    <tr>\n",
       "      <th>Motion</th>\n",
       "      <td>12195</td>\n",
       "      <td>1511.677778</td>\n",
       "    </tr>\n",
       "    <tr>\n",
       "      <th>Shadow</th>\n",
       "      <td>12195</td>\n",
       "      <td>1270.011111</td>\n",
       "    </tr>\n",
       "  </tbody>\n",
       "</table>\n",
       "</div>"
      ],
      "text/plain": [
       "        TrialID  visualSearchTime\n",
       "VV                               \n",
       "Both      12195       6437.455556\n",
       "Motion    12195       1511.677778\n",
       "Shadow    12195       1270.011111"
      ]
     },
     "execution_count": 15,
     "metadata": {},
     "output_type": "execute_result"
    }
   ],
   "source": [
    "### aggregate is a more elaborate aggregate function\n",
    "# the line below is equivalent to: data.groupby('Lens').mean()\n",
    "# data.groupby('Lens').aggregate('mean') \n",
    "# but here aggregate is used to specify how to aggregate different columns\n",
    "data.groupby('VV').aggregate({'TrialID': 'sum', 'visualSearchTime': 'mean'})"
   ]
  },
  {
   "cell_type": "code",
   "execution_count": null,
   "id": "fbb42f94",
   "metadata": {},
   "outputs": [],
   "source": []
  }
 ],
 "metadata": {
  "kernelspec": {
   "display_name": "Python 3 (ipykernel)",
   "language": "python",
   "name": "python3"
  },
  "language_info": {
   "codemirror_mode": {
    "name": "ipython",
    "version": 3
   },
   "file_extension": ".py",
   "mimetype": "text/x-python",
   "name": "python",
   "nbconvert_exporter": "python",
   "pygments_lexer": "ipython3",
   "version": "3.10.6"
  }
 },
 "nbformat": 4,
 "nbformat_minor": 5
}
