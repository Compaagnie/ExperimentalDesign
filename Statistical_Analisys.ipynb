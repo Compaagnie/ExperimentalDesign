{
 "cells": [
  {
   "cell_type": "code",
   "execution_count": null,
   "id": "145aedf1",
   "metadata": {},
   "outputs": [],
   "source": [
    "import pandas as pd # for manipulating data frames\n",
    "import pingouin as pg # for running statistics\n",
    "#import matplotlib.pyplot as pyplot\n",
    "import plotly.express as px"
   ]
  },
  {
   "cell_type": "markdown",
   "id": "d9ea9a0d",
   "metadata": {},
   "source": [
    "### First we check if our data is correct"
   ]
  },
  {
   "cell_type": "code",
   "execution_count": null,
   "id": "4182e81e",
   "metadata": {
    "scrolled": false
   },
   "outputs": [],
   "source": [
    "data = pd.read_csv('logs/logs_merged.csv', sep=',')\n",
    "data"
   ]
  },
  {
   "cell_type": "code",
   "execution_count": null,
   "id": "eb9605c3",
   "metadata": {},
   "outputs": [],
   "source": [
    "data.describe(include = 'all')"
   ]
  },
  {
   "cell_type": "code",
   "execution_count": null,
   "id": "b67ea864",
   "metadata": {},
   "outputs": [],
   "source": [
    "data.iloc[2]"
   ]
  },
  {
   "cell_type": "markdown",
   "id": "f7319e99",
   "metadata": {},
   "source": [
    "#### We check the types of our collumns"
   ]
  },
  {
   "cell_type": "code",
   "execution_count": null,
   "id": "8a91a543",
   "metadata": {},
   "outputs": [],
   "source": [
    "data.dtypes"
   ]
  },
  {
   "cell_type": "code",
   "execution_count": null,
   "id": "0ec8b748",
   "metadata": {},
   "outputs": [],
   "source": [
    "data['ParticipantID'] = data['ParticipantID'].astype('str')\n",
    "data.dtypes"
   ]
  },
  {
   "cell_type": "code",
   "execution_count": null,
   "id": "9c4b66c3",
   "metadata": {},
   "outputs": [],
   "source": [
    "### Applying them to a column gives a result of type series\n",
    "data.visualSearchTime.mean()"
   ]
  },
  {
   "cell_type": "code",
   "execution_count": null,
   "id": "9f582867",
   "metadata": {},
   "outputs": [],
   "source": [
    "### We can get a breakdown by condition using the groupby function\n",
    "data.groupby('VV').visualSearchTime.mean()"
   ]
  },
  {
   "cell_type": "code",
   "execution_count": null,
   "id": "1877d019",
   "metadata": {},
   "outputs": [],
   "source": [
    "### Applying those aggregating functions to a dataframe gives a result of type dataframe\n",
    "data.groupby('VV').mean() # result is a dataframe"
   ]
  },
  {
   "cell_type": "code",
   "execution_count": null,
   "id": "ae60983e",
   "metadata": {},
   "outputs": [],
   "source": [
    "### aggregate is a more elaborate aggregate function\n",
    "# the line below is equivalent to: data.groupby('Lens').mean()\n",
    "# data.groupby('Lens').aggregate('mean') \n",
    "# but here aggregate is used to specify how to aggregate different columns\n",
    "data.groupby('VV').aggregate({'TrialID': 'sum', 'visualSearchTime': 'mean'})"
   ]
  },
  {
   "cell_type": "code",
   "execution_count": null,
   "id": "3bd3d0a9",
   "metadata": {},
   "outputs": [],
   "source": [
    "OCAsStr = data['OC'].copy().astype('str')\n",
    "# make a copy of column ID and change its type from float to str\n",
    "VVAsStr = data['VV'].copy().astype('str')\n",
    "# now that we have strings, we can concatenate them using function 'cat'\n",
    "data['Condition: OC, VV'] = OCAsStr.str.cat(VVAsStr, sep=\", \")\n",
    "data"
   ]
  },
  {
   "cell_type": "markdown",
   "id": "39fb2d56",
   "metadata": {},
   "source": [
    "## We check that every participant has done the same number of trial and we plot it to be sure"
   ]
  },
  {
   "cell_type": "code",
   "execution_count": null,
   "id": "a32d0833",
   "metadata": {},
   "outputs": [],
   "source": [
    "data.groupby('ParticipantID').count()"
   ]
  },
  {
   "cell_type": "code",
   "execution_count": null,
   "id": "57ac2bca",
   "metadata": {},
   "outputs": [],
   "source": [
    "fig = px.histogram(data, x='Condition: OC, VV', color='ParticipantID')\n",
    "fig.show()"
   ]
  },
  {
   "cell_type": "markdown",
   "id": "9631c950",
   "metadata": {},
   "source": [
    "## We plot the visual search time in a histogram to check the distribution of measures"
   ]
  },
  {
   "cell_type": "code",
   "execution_count": null,
   "id": "2a1ce6a8",
   "metadata": {},
   "outputs": [],
   "source": [
    "fig = px.histogram(data, x='visualSearchTime', marginal='box')\n",
    "fig.show()\n"
   ]
  },
  {
   "cell_type": "markdown",
   "id": "7b163818",
   "metadata": {},
   "source": [
    "## We do the same but including the object count to the mix"
   ]
  },
  {
   "cell_type": "code",
   "execution_count": null,
   "id": "0e94b43d",
   "metadata": {},
   "outputs": [],
   "source": [
    "fig = px.histogram(data, x='visualSearchTime', color='OC', marginal='box', category_orders={\"OC\":[\"Low\",\"Medium\",\"High\"]})\n",
    "fig.show()"
   ]
  },
  {
   "cell_type": "markdown",
   "id": "942f4320",
   "metadata": {},
   "source": [
    "## This time we group the values by visual variable"
   ]
  },
  {
   "cell_type": "code",
   "execution_count": null,
   "id": "c4be38c6",
   "metadata": {},
   "outputs": [],
   "source": [
    "fig = px.histogram(data, x='visualSearchTime', color='VV', marginal='box')\n",
    "fig.show()"
   ]
  },
  {
   "cell_type": "markdown",
   "id": "d8652e05",
   "metadata": {},
   "source": [
    "## We check the error count depending on the object count"
   ]
  },
  {
   "cell_type": "code",
   "execution_count": null,
   "id": "044fb77e",
   "metadata": {},
   "outputs": [],
   "source": [
    "fig = px.histogram(data, x='ErrorCount', color='OC', category_orders={\"OC\":[\"Low\",\"Medium\",\"High\"]})\n",
    "fig.show()"
   ]
  },
  {
   "cell_type": "markdown",
   "id": "18162f22",
   "metadata": {},
   "source": [
    "## and once again but depending on visual variable"
   ]
  },
  {
   "cell_type": "code",
   "execution_count": null,
   "id": "d0f71f8f",
   "metadata": {},
   "outputs": [],
   "source": [
    "fig = px.histogram(data, x='ErrorCount', color='VV')\n",
    "fig.show()"
   ]
  },
  {
   "cell_type": "markdown",
   "id": "95c0d9fd",
   "metadata": {},
   "source": [
    "## Inferential statistics"
   ]
  },
  {
   "cell_type": "code",
   "execution_count": null,
   "id": "7838ac2a",
   "metadata": {},
   "outputs": [],
   "source": [
    "import math\n",
    "\n",
    "def summarizeDF(df, factors, measure):\n",
    "    summary = df.groupby(factors, as_index=False)[measure].aggregate({'Mean': 'mean', 'Count': 'count', 'Std':'std'})\n",
    "    ci95_hi = []\n",
    "    ci95_lo = []\n",
    "    for i in summary.values:\n",
    "        mean, count, std = i[len(factors)], i[len(factors)+1], i[len(factors)+2]\n",
    "        ci95_hi.append(mean + 1.96*std/math.sqrt(count))\n",
    "        ci95_lo.append(mean - 1.96*std/math.sqrt(count))\n",
    "\n",
    "    summary['ci95_hi'] = ci95_hi\n",
    "    summary['ci95_lo'] = ci95_lo\n",
    "    return summary"
   ]
  },
  {
   "cell_type": "markdown",
   "id": "25668bee",
   "metadata": {},
   "source": [
    "## We define the color palette and split our data in different tables depending on visual variable"
   ]
  },
  {
   "cell_type": "code",
   "execution_count": null,
   "id": "d878a978",
   "metadata": {},
   "outputs": [],
   "source": [
    "bothData = data[(data['VV']=='Both')]\n",
    "shadowData= data[(data['VV']=='Shadow')]\n",
    "motionData = data[(data['VV']=='Motion')]\n",
    "\n",
    "nice_color_palette = ['#66c2a5', '#fc8d62', '#8da0cb', '#e78ac3', '#a6d854']"
   ]
  },
  {
   "cell_type": "code",
   "execution_count": null,
   "id": "62874dc9",
   "metadata": {},
   "outputs": [],
   "source": [
    "correlation_table3 = pg.pairwise_corr(bothData, columns=['OC','visualSearchTime'])\n",
    "correlation_table3"
   ]
  },
  {
   "cell_type": "code",
   "execution_count": null,
   "id": "5fd9b3a8",
   "metadata": {},
   "outputs": [],
   "source": [
    "#r2 = correlation_table['r'] * correlation_table['r']\n",
    "#r2\n",
    "#run anova test for each hypothesis"
   ]
  },
  {
   "cell_type": "markdown",
   "id": "f361da5f",
   "metadata": {},
   "source": [
    "# one way repeated Anova test for Shadow visual variable\n",
    "## visualSearchTime depending on ObjectCount"
   ]
  },
  {
   "cell_type": "code",
   "execution_count": null,
   "id": "32ea8c41",
   "metadata": {},
   "outputs": [],
   "source": [
    "anShadow = pg.rm_anova(data=shadowData, dv='visualSearchTime', within='OC', subject='ParticipantID')\n",
    "anShadow"
   ]
  },
  {
   "cell_type": "markdown",
   "id": "532272f2",
   "metadata": {},
   "source": [
    "#### We found no significant effect of object count on visual search time with the shadow visual variable (p > 0.25)"
   ]
  },
  {
   "cell_type": "code",
   "execution_count": null,
   "id": "2685285b",
   "metadata": {},
   "outputs": [],
   "source": [
    "shadowStats = summarizeDF(shadowData, ['OC'], 'visualSearchTime')\n",
    "\n",
    "fig = px.bar(shadowStats, x='OC', y='Mean', color='OC', color_discrete_sequence=nice_color_palette, category_orders={\"OC\":[\"Low\",\"Medium\",\"High\"]}).update_traces(\n",
    "    error_y={\n",
    "        'type': 'data',\n",
    "        'symmetric': False,\n",
    "        'array': shadowStats['ci95_hi'] - shadowStats['Mean'],\n",
    "        'arrayminus': shadowStats['Mean'] - shadowStats['ci95_lo'],\n",
    "    }\n",
    ")\n",
    "fig.update_layout({\n",
    "    'plot_bgcolor' : 'rgba(0,0,0,0)'\n",
    "})\n",
    "fig.update_yaxes(showgrid=True, gridwidth=1, gridcolor='LightGray')\n",
    "\n",
    "fig.show()"
   ]
  },
  {
   "cell_type": "markdown",
   "id": "11aa6bf8",
   "metadata": {},
   "source": [
    "# one way repeated Anova test for Motion visual variable\n",
    "## visualSearchTime depending on ObjectCount"
   ]
  },
  {
   "cell_type": "code",
   "execution_count": null,
   "id": "29fdd008",
   "metadata": {},
   "outputs": [],
   "source": [
    "anMotion = pg.rm_anova(data=motionData, dv='visualSearchTime', within='OC', subject='ParticipantID')\n",
    "anMotion"
   ]
  },
  {
   "cell_type": "markdown",
   "id": "fc96bedd",
   "metadata": {},
   "source": [
    "#### We found no significant effect of object count on visual search time with the motion visual variable (p > 0.7)"
   ]
  },
  {
   "cell_type": "code",
   "execution_count": null,
   "id": "03b76ea5",
   "metadata": {},
   "outputs": [],
   "source": [
    "motionStats = summarizeDF(motionData, ['OC'], 'visualSearchTime')\n",
    "\n",
    "fig = px.bar(motionStats, x='OC', y='Mean', color='OC', color_discrete_sequence=nice_color_palette, category_orders={\"OC\":[\"Low\",\"Medium\",\"High\"]}).update_traces(\n",
    "    error_y={\n",
    "        'type': 'data',\n",
    "        'symmetric': False,\n",
    "        'array': motionStats['ci95_hi'] - motionStats['Mean'],\n",
    "        'arrayminus': motionStats['Mean'] - motionStats['ci95_lo'],\n",
    "    }\n",
    ")\n",
    "fig.update_layout({\n",
    "    'plot_bgcolor' : 'rgba(0,0,0,0)'\n",
    "})\n",
    "fig.update_yaxes(showgrid=True, gridwidth=1, gridcolor='LightGray')\n",
    "\n",
    "fig.show()"
   ]
  },
  {
   "cell_type": "markdown",
   "id": "3ba2d7a8",
   "metadata": {},
   "source": [
    "# one way repeated Anova test for Both visual variables\n",
    "## visualSearchTime depending on ObjectCount"
   ]
  },
  {
   "cell_type": "code",
   "execution_count": null,
   "id": "e15c553f",
   "metadata": {},
   "outputs": [],
   "source": [
    "anBoth = pg.rm_anova(data=bothData, dv='visualSearchTime', within='OC', subject='ParticipantID')\n",
    "anBoth"
   ]
  },
  {
   "cell_type": "markdown",
   "id": "d0604e38",
   "metadata": {},
   "source": [
    "#### We found a significant effect of object count on visual search time with both visual variable (F(2,10) = 28.7, p < 0.001, ng2 = 0.74)."
   ]
  },
  {
   "cell_type": "code",
   "execution_count": null,
   "id": "30426ca4",
   "metadata": {},
   "outputs": [],
   "source": [
    "posthocB = pg.pairwise_tests(data=bothData, dv='visualSearchTime', within=['OC'], subject='ParticipantID', parametric=True, padjust='fdr_bh', effsize='hedges')\n",
    "posthocB"
   ]
  },
  {
   "cell_type": "markdown",
   "id": "1fa6d498",
   "metadata": {},
   "source": [
    "#### All pairs significantly differ (all p's < 0.05)"
   ]
  },
  {
   "cell_type": "code",
   "execution_count": null,
   "id": "8c141f09",
   "metadata": {},
   "outputs": [],
   "source": [
    "bothStats = summarizeDF(bothData, ['OC'], 'visualSearchTime')\n",
    "\n",
    "fig = px.bar(bothStats, x='OC', y='Mean', color='OC', color_discrete_sequence=nice_color_palette, category_orders={\"OC\":[\"Low\",\"Medium\",\"High\"]}).update_traces(\n",
    "    error_y={\n",
    "        'type': 'data',\n",
    "        'symmetric': False,\n",
    "        'array': bothStats['ci95_hi'] - bothStats['Mean'],\n",
    "        'arrayminus': bothStats['Mean'] - bothStats['ci95_lo'],\n",
    "    }\n",
    ")\n",
    "fig.update_layout({\n",
    "    'plot_bgcolor' : 'rgba(0,0,0,0)'\n",
    "})\n",
    "fig.update_yaxes(showgrid=True, gridwidth=1, gridcolor='LightGray')\n",
    "\n",
    "fig.show()"
   ]
  },
  {
   "cell_type": "markdown",
   "id": "0cc5bd46",
   "metadata": {},
   "source": [
    "# one way repeated Anova test for visual variable\n",
    "## visualSearchTime depending on VisualVariable"
   ]
  },
  {
   "cell_type": "code",
   "execution_count": null,
   "id": "ed6b35c2",
   "metadata": {},
   "outputs": [],
   "source": [
    "aovrm1way = pg.rm_anova(data=data, dv='visualSearchTime', within='VV', subject='ParticipantID')\n",
    "aovrm1way"
   ]
  },
  {
   "cell_type": "markdown",
   "id": "3d64a025",
   "metadata": {},
   "source": [
    "#### We found a significant effect of visual variable on visual search time (F(2,10) = 84.9, p < 0.001, ng2 = 0.90)."
   ]
  },
  {
   "cell_type": "code",
   "execution_count": null,
   "id": "39366e38",
   "metadata": {},
   "outputs": [],
   "source": [
    "posthoc = pg.pairwise_tests(data=data, dv='visualSearchTime', within=['VV'], subject='ParticipantID', parametric=True, padjust='fdr_bh', effsize='hedges')\n",
    "posthoc"
   ]
  },
  {
   "cell_type": "markdown",
   "id": "371c4e09",
   "metadata": {},
   "source": [
    "#### All pairs of visual variables that have \"Both\" significantly differ (all p's < 0.05). The pair motion and shadow doesn't significantly differ (p = 0.34)."
   ]
  },
  {
   "cell_type": "code",
   "execution_count": null,
   "id": "0af6077c",
   "metadata": {},
   "outputs": [],
   "source": [
    "stats = summarizeDF(data, ['VV'], 'visualSearchTime')\n",
    "\n",
    "fig = px.bar(stats, x='VV', y='Mean', color='VV', color_discrete_sequence=nice_color_palette).update_traces(\n",
    "    error_y={\n",
    "        'type': 'data',\n",
    "        'symmetric': False,\n",
    "        'array': stats['ci95_hi'] - stats['Mean'],\n",
    "        'arrayminus': stats['Mean'] - stats['ci95_lo'],\n",
    "    }\n",
    ")\n",
    "fig.update_layout({\n",
    "    'plot_bgcolor' : 'rgba(0,0,0,0)'\n",
    "})\n",
    "fig.update_yaxes(showgrid=True, gridwidth=1, gridcolor='LightGray')\n",
    "\n",
    "fig.show()"
   ]
  },
  {
   "cell_type": "markdown",
   "id": "c12a5e6b",
   "metadata": {},
   "source": [
    "## Finally, we are doing an anova test both on visual variable and object count to see what it would show us"
   ]
  },
  {
   "cell_type": "code",
   "execution_count": null,
   "id": "82fa352c",
   "metadata": {},
   "outputs": [],
   "source": [
    "aovrm2way = pg.rm_anova(data=data, dv='visualSearchTime', within=['VV', 'OC'], subject='ParticipantID')\n",
    "aovrm2way"
   ]
  },
  {
   "cell_type": "code",
   "execution_count": null,
   "id": "9b46ce73",
   "metadata": {},
   "outputs": [],
   "source": [
    "posthoc = pg.pairwise_tests(data=data, dv='visualSearchTime', within=['VV', 'OC'], subject='ParticipantID', parametric=True, padjust='holm', effsize='cohen')\n",
    "posthoc"
   ]
  },
  {
   "cell_type": "markdown",
   "id": "f7a42525",
   "metadata": {},
   "source": [
    "# We didn't get much from that but if we create a bar chart with everything in it, it looks pretty cool"
   ]
  },
  {
   "cell_type": "code",
   "execution_count": null,
   "id": "178fe7e5",
   "metadata": {},
   "outputs": [],
   "source": [
    "stats = summarizeDF(data, ['VV','OC'], 'visualSearchTime')\n",
    "stats['OC'] = stats['OC'].astype('str')\n",
    "\n",
    "fig = px.bar(stats, x='VV', y='Mean', color='OC', barmode='group', color_discrete_sequence=nice_color_palette, category_orders={\"OC\":[\"Low\",\"Medium\",\"High\"]}).update_traces(\n",
    "    error_y={\n",
    "        'type': 'data',\n",
    "        'symmetric': False,\n",
    "        'array': stats['ci95_hi'] - stats['Mean'],\n",
    "        'arrayminus': stats['Mean'] - stats['ci95_lo'],\n",
    "    }\n",
    ")\n",
    "fig.update_layout({\n",
    "    'plot_bgcolor' : 'rgba(0,0,0,0)'\n",
    "})\n",
    "fig.update_yaxes(showgrid=True, gridwidth=1, gridcolor='LightGray')\n",
    "\n",
    "fig.show()"
   ]
  },
  {
   "cell_type": "markdown",
   "id": "f2f98929",
   "metadata": {},
   "source": [
    "#### When we check the bar chart, we see an interaction effect of object count on the visual variable Both, we can see this effect in the post-hoc test where only Both as all p's < 0.05 and the other do not significantly differ all p's > 0.2"
   ]
  },
  {
   "cell_type": "code",
   "execution_count": null,
   "id": "56e063ba",
   "metadata": {},
   "outputs": [],
   "source": []
  }
 ],
 "metadata": {
  "kernelspec": {
   "display_name": "Python 3 (ipykernel)",
   "language": "python",
   "name": "python3"
  },
  "language_info": {
   "codemirror_mode": {
    "name": "ipython",
    "version": 3
   },
   "file_extension": ".py",
   "mimetype": "text/x-python",
   "name": "python",
   "nbconvert_exporter": "python",
   "pygments_lexer": "ipython3",
   "version": "3.10.6"
  }
 },
 "nbformat": 4,
 "nbformat_minor": 5
}
